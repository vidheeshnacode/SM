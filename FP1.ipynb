{
  "nbformat": 4,
  "nbformat_minor": 0,
  "metadata": {
    "colab": {
      "name": "FP1.ipynb",
      "provenance": [],
      "authorship_tag": "ABX9TyN5rpyy2o39DMPyZU/ypkH9",
      "include_colab_link": true
    },
    "kernelspec": {
      "name": "python3",
      "display_name": "Python 3"
    }
  },
  "cells": [
    {
      "cell_type": "markdown",
      "metadata": {
        "id": "view-in-github",
        "colab_type": "text"
      },
      "source": [
        "<a href=\"https://colab.research.google.com/github/vidheeshnacode/SM/blob/master/FP1.ipynb\" target=\"_parent\"><img src=\"https://colab.research.google.com/assets/colab-badge.svg\" alt=\"Open In Colab\"/></a>"
      ]
    },
    {
      "cell_type": "code",
      "metadata": {
        "id": "OAHApPkyZ-EA"
      },
      "source": [
        "# Scraping and summarising news articles"
      ],
      "execution_count": null,
      "outputs": []
    },
    {
      "cell_type": "code",
      "metadata": {
        "id": "9z1I7OhKbYFA",
        "outputId": "2000c1bc-be04-4c81-9cec-dc24ba3b1f50",
        "colab": {
          "base_uri": "https://localhost:8080/",
          "height": 418
        }
      },
      "source": [
        "!pip install nltk\n",
        "!pip install newspaper3k"
      ],
      "execution_count": null,
      "outputs": [
        {
          "output_type": "stream",
          "text": [
            "Requirement already satisfied: nltk in /usr/local/lib/python3.6/dist-packages (3.2.5)\n",
            "Requirement already satisfied: six in /usr/local/lib/python3.6/dist-packages (from nltk) (1.15.0)\n",
            "Requirement already satisfied: newspaper3k in /usr/local/lib/python3.6/dist-packages (0.2.8)\n",
            "Requirement already satisfied: Pillow>=3.3.0 in /usr/local/lib/python3.6/dist-packages (from newspaper3k) (7.0.0)\n",
            "Requirement already satisfied: PyYAML>=3.11 in /usr/local/lib/python3.6/dist-packages (from newspaper3k) (3.13)\n",
            "Requirement already satisfied: nltk>=3.2.1 in /usr/local/lib/python3.6/dist-packages (from newspaper3k) (3.2.5)\n",
            "Requirement already satisfied: cssselect>=0.9.2 in /usr/local/lib/python3.6/dist-packages (from newspaper3k) (1.1.0)\n",
            "Requirement already satisfied: beautifulsoup4>=4.4.1 in /usr/local/lib/python3.6/dist-packages (from newspaper3k) (4.6.3)\n",
            "Requirement already satisfied: feedparser>=5.2.1 in /usr/local/lib/python3.6/dist-packages (from newspaper3k) (5.2.1)\n",
            "Requirement already satisfied: python-dateutil>=2.5.3 in /usr/local/lib/python3.6/dist-packages (from newspaper3k) (2.8.1)\n",
            "Requirement already satisfied: feedfinder2>=0.0.4 in /usr/local/lib/python3.6/dist-packages (from newspaper3k) (0.0.4)\n",
            "Requirement already satisfied: lxml>=3.6.0 in /usr/local/lib/python3.6/dist-packages (from newspaper3k) (4.2.6)\n",
            "Requirement already satisfied: tinysegmenter==0.3 in /usr/local/lib/python3.6/dist-packages (from newspaper3k) (0.3)\n",
            "Requirement already satisfied: requests>=2.10.0 in /usr/local/lib/python3.6/dist-packages (from newspaper3k) (2.23.0)\n",
            "Requirement already satisfied: jieba3k>=0.35.1 in /usr/local/lib/python3.6/dist-packages (from newspaper3k) (0.35.1)\n",
            "Requirement already satisfied: tldextract>=2.0.1 in /usr/local/lib/python3.6/dist-packages (from newspaper3k) (2.2.3)\n",
            "Requirement already satisfied: six in /usr/local/lib/python3.6/dist-packages (from nltk>=3.2.1->newspaper3k) (1.15.0)\n",
            "Requirement already satisfied: idna<3,>=2.5 in /usr/local/lib/python3.6/dist-packages (from requests>=2.10.0->newspaper3k) (2.10)\n",
            "Requirement already satisfied: chardet<4,>=3.0.2 in /usr/local/lib/python3.6/dist-packages (from requests>=2.10.0->newspaper3k) (3.0.4)\n",
            "Requirement already satisfied: certifi>=2017.4.17 in /usr/local/lib/python3.6/dist-packages (from requests>=2.10.0->newspaper3k) (2020.6.20)\n",
            "Requirement already satisfied: urllib3!=1.25.0,!=1.25.1,<1.26,>=1.21.1 in /usr/local/lib/python3.6/dist-packages (from requests>=2.10.0->newspaper3k) (1.24.3)\n",
            "Requirement already satisfied: requests-file>=1.4 in /usr/local/lib/python3.6/dist-packages (from tldextract>=2.0.1->newspaper3k) (1.5.1)\n"
          ],
          "name": "stdout"
        }
      ]
    },
    {
      "cell_type": "code",
      "metadata": {
        "id": "qTTbYI_4bgSK"
      },
      "source": [
        "import nltk\n",
        "from newspaper import Article"
      ],
      "execution_count": null,
      "outputs": []
    },
    {
      "cell_type": "code",
      "metadata": {
        "id": "sEOP3wXncKzf"
      },
      "source": [
        "url = 'https://medium.com/@vidheesh/case-study-covid-19-19564ee08872'\n",
        "article = Article(url)"
      ],
      "execution_count": null,
      "outputs": []
    },
    {
      "cell_type": "code",
      "metadata": {
        "id": "VeUrtpFocazV",
        "outputId": "1a9f5231-8464-45f5-e384-70527a6ed9f4",
        "colab": {
          "base_uri": "https://localhost:8080/",
          "height": 52
        }
      },
      "source": [
        "article.download()\n",
        "article.parse()\n",
        "nltk.download('punkt')\n",
        "article.nlp()\n"
      ],
      "execution_count": null,
      "outputs": [
        {
          "output_type": "stream",
          "text": [
            "[nltk_data] Downloading package punkt to /root/nltk_data...\n",
            "[nltk_data]   Package punkt is already up-to-date!\n"
          ],
          "name": "stdout"
        }
      ]
    },
    {
      "cell_type": "code",
      "metadata": {
        "id": "svFbB1bUcnxf",
        "outputId": "4e03155d-e633-4b93-da49-6a6408cad28f",
        "colab": {
          "base_uri": "https://localhost:8080/",
          "height": 34
        }
      },
      "source": [
        "article.authors"
      ],
      "execution_count": null,
      "outputs": [
        {
          "output_type": "execute_result",
          "data": {
            "text/plain": [
              "[]"
            ]
          },
          "metadata": {
            "tags": []
          },
          "execution_count": 26
        }
      ]
    },
    {
      "cell_type": "code",
      "metadata": {
        "id": "6KnGeKxLcxff",
        "outputId": "2365a166-5b99-4a36-f843-4e6cb44a66ba",
        "colab": {
          "base_uri": "https://localhost:8080/",
          "height": 34
        }
      },
      "source": [
        "article.publish_date"
      ],
      "execution_count": null,
      "outputs": [
        {
          "output_type": "execute_result",
          "data": {
            "text/plain": [
              "datetime.datetime(2020, 8, 13, 7, 29, 54, 273000, tzinfo=tzlocal())"
            ]
          },
          "metadata": {
            "tags": []
          },
          "execution_count": 27
        }
      ]
    },
    {
      "cell_type": "code",
      "metadata": {
        "id": "DSqAXM4xc9IG",
        "outputId": "905741f9-a975-4b4e-a602-953da2cb5805",
        "colab": {
          "base_uri": "https://localhost:8080/",
          "height": 34
        }
      },
      "source": [
        "article.top_image"
      ],
      "execution_count": null,
      "outputs": [
        {
          "output_type": "execute_result",
          "data": {
            "application/vnd.google.colaboratory.intrinsic+json": {
              "type": "string"
            },
            "text/plain": [
              "'https://miro.medium.com/max/1200/1*ZjP5LdAywJTPzAIz02J-fA.png'"
            ]
          },
          "metadata": {
            "tags": []
          },
          "execution_count": 28
        }
      ]
    },
    {
      "cell_type": "code",
      "metadata": {
        "id": "-jTH3f8adCWk",
        "outputId": "64ecda16-b8ef-4d02-dc3b-849e857babff",
        "colab": {
          "base_uri": "https://localhost:8080/",
          "height": 1000
        }
      },
      "source": [
        "print(article.text)"
      ],
      "execution_count": null,
      "outputs": [
        {
          "output_type": "stream",
          "text": [
            "RT-PCR and HRCT Test Info, Relation and Evaluating Methodologies.\n",
            "\n",
            "Here I will essentially summarize 3 research papers to draw a picture of how both test are related and the results are not mutually exclusive in the event of COVID-19. This article attempts to inform, people with no medical background, the details in detecting and identification of SARS-CoV-2 on RT-PCR and HRCT diagnostics. Link for papers and studies will be at the end of this article.\n",
            "\n",
            "This article introduce and expand on following points.\n",
            "\n",
            "Medical Jargon Test procedure Various studies summarised\n",
            "\n",
            "Medical Jargon:\n",
            "\n",
            "Sensitivity : Ability of a test to correctly identify those with the disease (true positive rate)\n",
            "\n",
            ": Ability of a test to correctly identify those with the disease (true positive rate) Specificity : Ability of the test to correctly identify those without the disease (true negative rate).\n",
            "\n",
            ": Ability of the test to correctly identify those without the disease (true negative rate). Bronchoalveolar lavage : Diagnostic method where a fluid is passed into the lower respiratory system and collected for examination. Used to identify lower respiratory tract infections.\n",
            "\n",
            ": Diagnostic method where a fluid is passed into the lower respiratory system and collected for examination. Used to identify lower respiratory tract infections. Nasal swabs : Secretion from back of the nose and upper throat is collected using a swab. Used to identify Upper Respiratory tract infections.\n",
            "\n",
            ": Secretion from back of the nose and upper throat is collected using a swab. Used to identify Upper Respiratory tract infections. Pharyngeal swabs : Similar to Nasal swab, sample is collected from throat.\n",
            "\n",
            ": Similar to Nasal swab, sample is collected from throat. DNA: A two-strand molecule that is found in all organisms, such as animals, plants and viruses, and which holds the genetic code, or blueprint, for how these organisms are made and develop.\n",
            "\n",
            "A two-strand molecule that is found in all organisms, such as animals, plants and viruses, and which holds the genetic code, or blueprint, for how these organisms are made and develop. RNA: A one-strand molecule that copies, transcribes and transmits parts of the genetic code to proteins so that they can synthesize and carry out functions that keep organisms alive and developing. Different variations of RNA are responsible for copying, transcribing and transmitting.\n",
            "\n",
            "A one-strand molecule that copies, transcribes and transmits parts of the genetic code to proteins so that they can synthesize and carry out functions that keep organisms alive and developing. Different variations of RNA are responsible for copying, transcribing and transmitting. Ground Glass Opacity: It refers to the area of increased attenuation or Hazy opacity on Chest CT scan.\n",
            "\n",
            "Test Procedure\n",
            "\n",
            "Real Time RT-PCR: Reverse Transcription Polymerase Chain Reaction\n",
            "\n",
            "It is a type of test used to detect the presence of any specific genetic material in any pathogen (In this case, Virus). Originally, the method used radioactive isotope markers to detect targeted genetic materials. But subsequent refining has led to the replacement of isotopic labelling with fluorescent dyes. This allows scientists to see the results almost immediately while the process is still going on. With some adaptation this testing procedure was also used before for diagnosing other virus like Ebola and Zika Virus.\n",
            "\n",
            "Usually a virus consists either DNA or RNA as molecular envelop. SARS-CoV-2 only contains RNA, which means they rely on healthy cells to regenerate and survive. Thus to detect the RNA sequence of COVID-19, laboratory need to convert the RNA to DNA. This is where RTPCR comes to the picture. RT- Reverse Transcription does the conversion. Once this is done, scientist amplify the DNA several thousand times to specific sections to confirm presence of the virus.\n",
            "\n",
            "To start the test, samples are collected from person’s nose (Nasopharyngeal swab) or throat (Oropharyngeal swab). Once the specimen is collected, the swab is placed immediately into sterile tube containing a Viral Transport medium and sent to laboratory for testing. The sample is treated with several chemical solutions to separate RNA from protein and other substances. Then the RNA sequence is transcribed to DNA. Subsequently additional short fragments of DNA are added that are complementary to specific parts of the transcribed viral DNA. If the virus is present in a sample, these fragments attach themselves to target sections of the viral DNA. Some of the added genetic fragments are used for building DNA strands during amplification, while the others are used for building the DNA and adding marker labels to the strands, which are then used to detect the virus. The mixture is then placed in an RT–PCR machine. The machine cycles through temperatures that heat and cool the mixture to trigger specific chemical reactions that create new, identical copies of the target sections of viral DNA. The cycle is repeated over and over to continue copying the target sections of viral DNA. Each cycle doubles the previous number: two copies become four, four copies become eight, and so on. A standard real time RT–PCR set-up usually goes through 35 cycles, which means that, by the end of the process, around 35 billion new copies of the sections of viral DNA are created from each strand of the virus present in the sample. As new copies of the viral DNA sections are built, the marker labels attach to the DNA strands and then release a fluorescent dye, which is measured by the machine’s computer and presented in real time on the screen. The computer tracks the amount of fluorescence in the sample after each cycle. When a certain level of fluorescence is surpassed, this confirms that the virus is present. Scientists also monitor how many cycles it takes to reach this level in order to estimate the severity of the infection: the fewer the cycles, the more severe the viral infection is.\n",
            "\n",
            "For technical aspect refer this video of RT-PCR test animation https://youtu.be/ThG_02miq-4\n",
            "\n",
            "HRCT: High-Resolution Computed Tomography\n",
            "\n",
            "CT scan is a medical imaging procedure that uses computer-processed combinations of many X-ray measurements taken from different angles to produce cross-sectional images of specific areas of a scanned object, allowing the user to see inside the object.\n",
            "\n",
            "HRCT is performed using a conventional CT scanner. However, imaging parameters are chosen so as to maximize spatial resolution:[1] a narrow slice width is used (usually 1–2 mm), a high spatial resolution image reconstruction algorithm is used, field of view is minimized, so as to minimize the size of each pixel, and other scan factors (eg. focal spot) may be optimized for resolution at the expense of scan speed.\n",
            "\n",
            "After the Chest CT scan is performed, based on the findings and level of suspicion COVID-19 infection, a CORADS classification grade is provided varying from CO-RADS 1 to CORADS 6.\n",
            "\n",
            "CO-RADS-3 case have Unifocal Ground Glass Opacities.\n",
            "\n",
            "CO-RADS-4 case have Unilateral Ground Glass, Multifocal Consolidations.\n",
            "\n",
            "CO-RADS-5 case have Multifocal Ground Glass and Consolidation.\n",
            "\n",
            "Refer https://radiologyassistant.nl/chest/covid-19/corads-classification#corads-classification-corads-1 for detailed explanation and different cases on CO-RADS classification.\n",
            "\n",
            "Various Studies summarized\n",
            "\n",
            "Lets start with the study of how different samples collections methods yield different positive rates of detecting the SARS-CoV-2. The paper quotes that\n",
            "\n",
            "“There were 1070 specimens collected from 205 patients with COVID-19. Of the specimens collected, Bronchoalveolar lavage fluid specimens demonstrated the highest positive rates of at 93% (14 of 15). This was followed by sputum at 72% (72 of 104), nasal swabs at 63% (5 of 8), fibro bronchoscope brush biopsy at 46% (6 of 13), pharyngeal swabs at 32% (126 of 398), feces at 29% (44 of 153) and blood at 1% (n = 3 of 307)”\n",
            "\n",
            "Correlate HRCT and RT-PCR test results\n",
            "\n",
            "This study analyzed 1014 suspected COVID-19 patients in Wuhan and found that chest CT achieved higher sensitivity for diagnosis of COVID-19 as compared to RT-PCR from pharyngeal swab samples. Of the 1014 patients, 601 of 1014 (59%) had positive RT-PCR results and 888 of 1014 (88%) had positive chest CT scans. The sensitivity of chest CT in suggesting COVID-19 was 97% based on positive RT-PCR results. In the 413 patients with negative RT-PCR results, 308 of 413 (75%) had positive chest CT findings. Of those 308 patients, 48% (103 of 308) were considered as highly likely cases and 33% (103 of 308) as probable cases. At analysis of serial RT-PCR testing and CT scans, the mean interval between the initial negative to positive RT-PCR results was 5.1 days (+ or -) 1.5; the mean interval between initial positive to subsequent negative RT-PCR results was 6.9 days (+ or -) 2.3. Of the 1014 patients, 60% (34 of 57) to 93% (14 of 15) had initial positive CT scans consistent with COVID-19 before (or parallel to) the initial positive RT-PCR results. Twenty-four of 57 patients (42%) showed improvement on follow-up chest CT scans before the RT-PCR results turned negative. This study lead Chest CT scan into becoming the primary tool of detection and evaluation of COVID-19.\n",
            "\n",
            "“Next study had 1099 patients with confirmed COVID-19. In the study, 86% (n = 840) of patients had CT findings suggesting infection. Positive CT findings included ground-glass opacity, local patchy shadowing, bilateral patchy shadowing, or interstitial abnormalities. Additionally, no CT abnormality was found in 17.9% (n = 157) of patients with non-severe disease and in 2.9% (n = 5) of patients with severe disease.”\n",
            "\n",
            "False Negatives of RTPCR\n",
            "\n",
            "This paper explained how a 34 year old was tested 4 times negative had patchy ground-glass opacity on admission, and it rapidly progressed to segmental mixed consolidation and ground-glass opacity 3 days after admission, and it resolved in left upper lobe, but showed multifocal ground-glass opacities 7 days after admission. When tested on fifth day after admission, it revealed positive result. Doctors were successfully able to isolate the patient beforehand just because the CT scan showed an early sign of a ‘presumed case’. It is difficult to distinguish Covid-19 pneumonia from other viral pneumonia. Not only paper elongates on false negatives of the RT-PCR test, it also emphasises the usage of CT scan to detect early changes of Covid-19 when RT-PCR test result yield negative.\n",
            "\n",
            "CT scans improves the diagnostic accuracy in detecting COVID-19\n",
            "\n",
            "Source: https://www.medrxiv.org/content/10.1101/2020.05.26.20114082v2\n",
            "\n",
            "The current method of swabbing the patient for COVID-19 is mostly Nasopharyngeal. This was a retrospective analysis of 324 patients who had RT-PCR testing and HRCT were included in the study. HRCTs were classified as Category 1, 2 or 3. Patients were then divided into four groups based on HRCT category and RT-PCR swab results for analysis.\n",
            "\n",
            "Category 1: consistent with multifocal pneumonia\n",
            "\n",
            "Category 2: indeterminate for multifocal pneumonia\n",
            "\n",
            "Category 3: not consistent with multifocal pneumonia\n",
            "\n",
            "Group 1: COVID (+) PCR and Category 1 CT scan\n",
            "\n",
            "Group 2: COVID (+) PCR and Category 2 and 3 CT scan\n",
            "\n",
            "Group 3: COVID (-) PCR and Category 1 CT scan\n",
            "\n",
            "Group 4: COVID (-) PCR and Category 2 and 3 CT scan\n",
            "\n",
            "The study’s finding are the following\n",
            "\n",
            "A total of 161 patients tested positive by RT-PCR, while 156 were negative. 167 patients (52.02%) had Category 1 HRCT scans, 63 (19.63 %) had Category 2 scans and 91 (28.3%) had Category 3 scans. Sensitivity and specificity of HRCT was 77.6% and 73.7 respectively. The positive predictive value and negative predictive values of HRCT for COVID-19 were calculated at 75.3% and 76.2% respectively. Overall, 41 patients were diagnosed via HRCT and 168 via RTPCR swabs. Thus, 20% of total COVID cases that were declared negative by RT-PCR swab had characteristic findings of COVID-19 infection by HRCT.\n",
            "\n",
            "Bottom Line:\n",
            "\n",
            "In the retrospective analysis of different research papers, this summarizes that any individual who have the symptoms of COVID-19 and the RT-PCR test results yield negative, there is a good chance that the ailment in a patient could imply the opposite. One should consider the CT scan results, CO-RADs classification and take the decision of treatment accordingly.\n",
            "\n",
            "https://jamanetwork.com/journals/jama/fullarticle/2762997\n"
          ],
          "name": "stdout"
        }
      ]
    },
    {
      "cell_type": "code",
      "metadata": {
        "id": "sixPRwdfdWx8",
        "outputId": "ad78bb41-b1e8-4294-ede8-8188c340db17",
        "colab": {
          "base_uri": "https://localhost:8080/",
          "height": 124
        }
      },
      "source": [
        "print(article.summary)"
      ],
      "execution_count": null,
      "outputs": [
        {
          "output_type": "stream",
          "text": [
            "The sensitivity of chest CT in suggesting COVID-19 was 97% based on positive RT-PCR results.\n",
            "Of the 1014 patients, 60% (34 of 57) to 93% (14 of 15) had initial positive CT scans consistent with COVID-19 before (or parallel to) the initial positive RT-PCR results.\n",
            "This study lead Chest CT scan into becoming the primary tool of detection and evaluation of COVID-19.\n",
            "Not only paper elongates on false negatives of the RT-PCR test, it also emphasises the usage of CT scan to detect early changes of Covid-19 when RT-PCR test result yield negative.\n",
            "Thus, 20% of total COVID cases that were declared negative by RT-PCR swab had characteristic findings of COVID-19 infection by HRCT.\n"
          ],
          "name": "stdout"
        }
      ]
    },
    {
      "cell_type": "code",
      "metadata": {
        "id": "-69FHENJepf-"
      },
      "source": [
        ""
      ],
      "execution_count": null,
      "outputs": []
    }
  ]
}